{
 "metadata": {
  "name": "",
  "signature": "sha256:5b443bbc9a2b239b95a61c266270661d576decd08d3bcad30878c5bb757675c4"
 },
 "nbformat": 3,
 "nbformat_minor": 0,
 "worksheets": [
  {
   "cells": [
    {
     "cell_type": "code",
     "collapsed": false,
     "input": [
      "def funcion_con_un_nombre_muy_largo_y_algo_boba(a, b):\n",
      "    \"\"\"\n",
      "    Este texto es el docsstring de boda.\n",
      "    La funcion toma dos argumentos a y b\n",
      "    Regresa la sumad los argumentos  + b\n",
      "    No hay verificacion de errores\n",
      "    \"\"\"\n",
      "    return a+b"
     ],
     "language": "python",
     "metadata": {},
     "outputs": [],
     "prompt_number": 5
    },
    {
     "cell_type": "code",
     "collapsed": false,
     "input": [
      "funcion_con_un_nombre_muy_largo_y_algo_boba?"
     ],
     "language": "python",
     "metadata": {},
     "outputs": [],
     "prompt_number": 7
    },
    {
     "cell_type": "code",
     "collapsed": false,
     "input": [
      "funcion_con_un_nombre_muy_largo_y_algo_boba??"
     ],
     "language": "python",
     "metadata": {},
     "outputs": [],
     "prompt_number": 9
    },
    {
     "cell_type": "code",
     "collapsed": false,
     "input": [
      "funcion_con_un_nombre_muy_largo_y_algo_boba"
     ],
     "language": "python",
     "metadata": {},
     "outputs": []
    },
    {
     "cell_type": "code",
     "collapsed": false,
     "input": [
      "funcion_con_un_nombre_muy_largo_y_algo_boba(5, 6)"
     ],
     "language": "python",
     "metadata": {},
     "outputs": [
      {
       "metadata": {},
       "output_type": "pyout",
       "prompt_number": 10,
       "text": [
        "11"
       ]
      }
     ],
     "prompt_number": 10
    },
    {
     "cell_type": "code",
     "collapsed": false,
     "input": [
      "import sys"
     ],
     "language": "python",
     "metadata": {},
     "outputs": [],
     "prompt_number": 19
    },
    {
     "cell_type": "code",
     "collapsed": false,
     "input": [
      "sys.path."
     ],
     "language": "python",
     "metadata": {},
     "outputs": []
    }
   ],
   "metadata": {}
  }
 ]
}