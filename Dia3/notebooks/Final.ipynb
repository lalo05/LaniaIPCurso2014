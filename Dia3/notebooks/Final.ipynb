{
 "metadata": {
  "name": "",
  "signature": "sha256:864e23175a550af198a4f07e221e673da7d96af89f6be97063822a7166209e23"
 },
 "nbformat": 3,
 "nbformat_minor": 0,
 "worksheets": [
  {
   "cells": [
    {
     "cell_type": "heading",
     "level": 1,
     "metadata": {},
     "source": [
      "Proyecto final"
     ]
    },
    {
     "cell_type": "markdown",
     "metadata": {},
     "source": [
      "#El programa toda una foto y dice en que lugar fue tomada la foto\n",
      "##Flujo:\n",
      "    1.- Solcita que se escriba el nombre\n",
      "    2.- Posteriormente se debe mencionar la palabra 'tomar foto'\n",
      "    3.- se ejecuta la aplciacion de la camara.\n",
      "    4.- se debera tomar la foto y al terminar la aplicacion debera mencionar enque lugar ha sido tomada la foto."
     ]
    },
    {
     "cell_type": "code",
     "collapsed": false,
     "input": [
      "import android,time\n",
      "droide = android.Android()\n",
      "droide.ttsSpeak(\"Hola, Proporciona tu nombre\")\n",
      "name = droide.dialogGetInput('Hola','Nombre')\n",
      "droide.ttsSpeak(\"Hola \"+name.result)\n",
      "droide.ttsSpeak(\"Proporciona tu indicacion en 5 segundos\")\n",
      "time.sleep(5)\n",
      "comando=droide.recognizeSpeech(\"indica que deseas tomar la foto\")\n",
      "droide.makeToast(\"Tu indicacion es %s\" %comando.result)\n",
      "if comando.result =='tomar foto':\n",
      "    droide.ttsSpeak(\"Vas a tomar foto\")  \n",
      "    droide.ttsSpeak(\"Enfoca el objeto al que deseas tomar la foto\")\n",
      "    droide.cameraInteractiveCapturePicture('/sdcard/foo.jpg')\n",
      "    droide.startLocating()\n",
      "    time.sleep(10)\n",
      "    loc = droide.readLocation().result\n",
      "    if loc == {}:\n",
      "        loc = getLastKnownLocation().result\n",
      "    if loc != {}:\n",
      "        try:\n",
      "            n = loc['gps']\n",
      "        except KeyError:\n",
      "         n = loc['network'] \n",
      "        la = n['latitude'] \n",
      "        lo = n['longitude']\n",
      "        address = droide.geocode(la, lo).result\n",
      "        droide.stopLocating()\n",
      "        droide.ttsSpeak(\"La foto fue tomada en \"+address[0]['admin_area']+address[0]['locality']+address[0]['thoroughfare'])\n",
      "        droide.ttsSpeak(\"Hasta Luego\")"
     ],
     "language": "python",
     "metadata": {},
     "outputs": []
    }
   ],
   "metadata": {}
  }
 ]
}