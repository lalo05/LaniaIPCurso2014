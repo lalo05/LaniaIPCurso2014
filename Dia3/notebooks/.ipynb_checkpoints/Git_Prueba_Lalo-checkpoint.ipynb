{
 "metadata": {
  "name": "",
  "signature": "sha256:b7acb9a8156bf35e9dcaf6c0a49ae9a786d1a7a8909bf32059849053b5e1d6b0"
 },
 "nbformat": 3,
 "nbformat_minor": 0,
 "worksheets": [
  {
   "cells": [
    {
     "cell_type": "heading",
     "level": 1,
     "metadata": {},
     "source": [
      "Realizando una prubea de entregacon git "
     ]
    },
    {
     "cell_type": "code",
     "collapsed": false,
     "input": [
      "%run ../talktools.py"
     ],
     "language": "python",
     "metadata": {},
     "outputs": []
    },
    {
     "cell_type": "code",
     "collapsed": false,
     "input": [
      "import numpy as np"
     ],
     "language": "python",
     "metadata": {},
     "outputs": []
    },
    {
     "cell_type": "code",
     "collapsed": false,
     "input": [
      "Prueba 1"
     ],
     "language": "python",
     "metadata": {},
     "outputs": []
    }
   ],
   "metadata": {}
  }
 ]
}