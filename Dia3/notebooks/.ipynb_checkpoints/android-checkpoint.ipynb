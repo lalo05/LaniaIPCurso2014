{
 "metadata": {
  "name": "",
  "signature": "sha256:f919bd0d44efb607702c93de4df456c5187903a0061d4bec3053e5af0dd1cc5d"
 },
 "nbformat": 3,
 "nbformat_minor": 0,
 "worksheets": [
  {
   "cells": [
    {
     "cell_type": "code",
     "collapsed": false,
     "input": [
      "import android"
     ],
     "language": "python",
     "metadata": {},
     "outputs": [],
     "prompt_number": 1
    },
    {
     "cell_type": "code",
     "collapsed": false,
     "input": [
      "import time"
     ],
     "language": "python",
     "metadata": {},
     "outputs": [],
     "prompt_number": 40
    },
    {
     "cell_type": "code",
     "collapsed": false,
     "input": [
      "%%cmd\n",
      "adb"
     ],
     "language": "python",
     "metadata": {},
     "outputs": [
      {
       "output_type": "stream",
       "stream": "stdout",
       "text": [
        "Microsoft Windows [Versi\ufffdn 6.3.9600]\r\n",
        "(c) 2013 Microsoft Corporation. Todos los derechos reservados.\r\n",
        "\r\n",
        "C:\\Users\\Eduardo\\Documents\\IPython Notebooks\\GitHub\\lania.ipython\\Dia3\\notebooks>adb\n",
        "\r\n",
        "C:\\Users\\Eduardo\\Documents\\IPython Notebooks\\GitHub\\lania.ipython\\Dia3\\notebooks>"
       ]
      },
      {
       "output_type": "stream",
       "stream": "stderr",
       "text": [
        "Android Debug Bridge version 1.0.31\r\n",
        "\r\n",
        " -a                            - directs adb to listen on all interfaces for a connection\r\n",
        " -d                            - directs command to the only connected USB device\r\n",
        "                                 returns an error if more than one USB device is present.\r\n",
        " -e                            - directs command to the only running emulator.\r\n",
        "                                 returns an error if more than one emulator is running.\r\n",
        " -s <specific device>          - directs command to the device or emulator with the given\r\n",
        "                                 serial number or qualifier. Overrides ANDROID_SERIAL\r\n",
        "                                 environment variable.\r\n",
        " -p <product name or path>     - simple product name like 'sooner', or\r\n",
        "                                 a relative/absolute path to a product\r\n",
        "                                 out directory like 'out/target/product/sooner'.\r\n",
        "                                 If -p is not specified, the ANDROID_PRODUCT_OUT\r\n",
        "                                 environment variable is used, which must\r\n",
        "                                 be an absolute path.\r\n",
        " -H                            - Name of adb server host (default: localhost)\r\n",
        " -P                            - Port of adb server (default: 5037)\r\n",
        " devices [-l]                  - list all connected devices\r\n",
        "                                 ('-l' will also list device qualifiers)\r\n",
        " connect <host>[:<port>]       - connect to a device via TCP/IP\r\n",
        "                                 Port 5555 is used by default if no port number is specified.\r\n",
        " disconnect [<host>[:<port>]]  - disconnect from a TCP/IP device.\r\n",
        "                                 Port 5555 is used by default if no port number is specified.\r\n",
        "                                 Using this command with no additional arguments\r\n",
        "                                 will disconnect from all connected TCP/IP devices.\r\n",
        "\r\n",
        "device commands:\r\n",
        "  adb push [-p] <local> <remote>\r\n",
        "                               - copy file/dir to device\r\n",
        "                                 ('-p' to display the transfer progress)\r\n",
        "  adb pull [-p] [-a] <remote> [<local>]\r\n",
        "                               - copy file/dir from device\r\n",
        "                                 ('-p' to display the transfer progress)\r\n",
        "                                 ('-a' means copy timestamp and mode)\r\n",
        "  adb sync [ <directory> ]     - copy host->device only if changed\r\n",
        "                                 (-l means list but don't copy)\r\n",
        "                                 (see 'adb help all')\r\n",
        "  adb shell                    - run remote shell interactively\r\n",
        "  adb shell <command>          - run remote shell command\r\n",
        "  adb emu <command>            - run emulator console command\r\n",
        "  adb logcat [ <filter-spec> ] - View device log\r\n",
        "  adb forward --list           - list all forward socket connections.\r\n",
        "                                 the format is a list of lines with the following format:\r\n",
        "                                    <serial> \" \" <local> \" \" <remote> \"\\n\"\r\n",
        "  adb forward <local> <remote> - forward socket connections\r\n",
        "                                 forward specs are one of: \r\n",
        "                                   tcp:<port>\r\n",
        "                                   localabstract:<unix domain socket name>\r\n",
        "                                   localreserved:<unix domain socket name>\r\n",
        "                                   localfilesystem:<unix domain socket name>\r\n",
        "                                   dev:<character device name>\r\n",
        "                                   jdwp:<process pid> (remote only)\r\n",
        "  adb forward --no-rebind <local> <remote>\r\n",
        "                               - same as 'adb forward <local> <remote>' but fails\r\n",
        "                                 if <local> is already forwarded\r\n",
        "  adb forward --remove <local> - remove a specific forward socket connection\r\n",
        "  adb forward --remove-all     - remove all forward socket connections\r\n",
        "  adb jdwp                     - list PIDs of processes hosting a JDWP transport\r\n",
        "  adb install [-l] [-r] [-d] [-s] [--algo <algorithm name> --key <hex-encoded key> --iv <hex-encoded iv>] <file>\r\n",
        "                               - push this package file to the device and install it\r\n",
        "                                 ('-l' means forward-lock the app)\r\n",
        "                                 ('-r' means reinstall the app, keeping its data)\r\n",
        "                                 ('-d' means allow version code downgrade)\r\n",
        "                                 ('-s' means install on SD card instead of internal storage)\r\n",
        "                                 ('--algo', '--key', and '--iv' mean the file is encrypted already)\r\n",
        "  adb uninstall [-k] <package> - remove this app package from the device\r\n",
        "                                 ('-k' means keep the data and cache directories)\r\n",
        "  adb bugreport                - return all information from the device\r\n",
        "                                 that should be included in a bug report.\r\n",
        "\r\n",
        "  adb backup [-f <file>] [-apk|-noapk] [-obb|-noobb] [-shared|-noshared] [-all] [-system|-nosystem] [<packages...>]\r\n",
        "                               - write an archive of the device's data to <file>.\r\n",
        "                                 If no -f option is supplied then the data is written\r\n",
        "                                 to \"backup.ab\" in the current directory.\r\n",
        "                                 (-apk|-noapk enable/disable backup of the .apks themselves\r\n",
        "                                    in the archive; the default is noapk.)\r\n",
        "                                 (-obb|-noobb enable/disable backup of any installed apk expansion\r\n",
        "                                    (aka .obb) files associated with each application; the default\r\n",
        "                                    is noobb.)\r\n",
        "                                 (-shared|-noshared enable/disable backup of the device's\r\n",
        "                                    shared storage / SD card contents; the default is noshared.)\r\n",
        "                                 (-all means to back up all installed applications)\r\n",
        "                                 (-system|-nosystem toggles whether -all automatically includes\r\n",
        "                                    system applications; the default is to include system apps)\r\n",
        "                                 (<packages...> is the list of applications to be backed up.  If\r\n",
        "                                    the -all or -shared flags are passed, then the package\r\n",
        "                                    list is optional.  Applications explicitly given on the\r\n",
        "                                    command line will be included even if -nosystem would\r\n",
        "                                    ordinarily cause them to be omitted.)\r\n",
        "\r\n",
        "  adb restore <file>           - restore device contents from the <file> backup archive\r\n",
        "\r\n",
        "  adb help                     - show this help message\r\n",
        "  adb version                  - show version num\r\n",
        "\r\n",
        "scripting:\r\n",
        "  adb wait-for-device          - block until device is online\r\n",
        "  adb start-server             - ensure that there is a server running\r\n",
        "  adb kill-server              - kill the server if it is running\r\n",
        "  adb get-state                - prints: offline | bootloader | device\r\n",
        "  adb get-serialno             - prints: <serial-number>\r\n",
        "  adb get-devpath              - prints: <device-path>\r\n",
        "  adb status-window            - continuously print device status for a specified device\r\n",
        "  adb remount                  - remounts the /system partition on the device read-write\r\n",
        "  adb reboot [bootloader|recovery] - reboots the device, optionally into the bootloader or recovery program\r\n",
        "  adb reboot-bootloader        - reboots the device into the bootloader\r\n",
        "  adb root                     - restarts the adbd daemon with root permissions\r\n",
        "  adb usb                      - restarts the adbd daemon listening on USB\r\n",
        "  adb tcpip <port>             - restarts the adbd daemon listening on TCP on the specified port\r\n",
        "networking:\r\n",
        "  adb ppp <tty> [parameters]   - Run PPP over USB.\r\n",
        " Note: you should not automatically start a PPP connection.\r\n",
        " <tty> refers to the tty for PPP stream. Eg. dev:/dev/omap_csmi_tty1\r\n",
        " [parameters] - Eg. defaultroute debug dump local notty usepeerdns\r\n",
        "\r\n",
        "adb sync notes: adb sync [ <directory> ]\r\n",
        "  <localdir> can be interpreted in several ways:\r\n",
        "\r\n",
        "  - If <directory> is not specified, both /system and /data partitions will be updated.\r\n",
        "\r\n",
        "  - If it is \"system\" or \"data\", only the corresponding partition\r\n",
        "    is updated.\r\n",
        "\r\n",
        "environmental variables:\r\n",
        "  ADB_TRACE                    - Print debug information. A comma separated list of the following values\r\n",
        "                                 1 or all, adb, sockets, packets, rwx, usb, sync, sysdeps, transport, jdwp\r\n",
        "  ANDROID_SERIAL               - The serial number to connect to. -s takes priority over this if given.\r\n",
        "  ANDROID_LOG_TAGS             - When used with the logcat option, only these debug tags are printed.\r\n"
       ]
      }
     ],
     "prompt_number": 2
    },
    {
     "cell_type": "code",
     "collapsed": false,
     "input": [
      "%%cmd\n",
      "adb -s emulator-5556 forward tcp:9999 tcp:4321\n"
     ],
     "language": "python",
     "metadata": {},
     "outputs": [
      {
       "output_type": "stream",
       "stream": "stdout",
       "text": [
        "Microsoft Windows [Versi\ufffdn 6.3.9600]\r\n",
        "(c) 2013 Microsoft Corporation. Todos los derechos reservados.\r\n",
        "\r\n",
        "C:\\Users\\Eduardo\\Documents\\IPython Notebooks\\GitHub\\lania.ipython\\Dia3\\notebooks>adb -s emulator-5556 forward tcp:9999 tcp:4321\n",
        "\r\n",
        "C:\\Users\\Eduardo\\Documents\\IPython Notebooks\\GitHub\\lania.ipython\\Dia3\\notebooks>"
       ]
      },
      {
       "output_type": "stream",
       "stream": "stderr",
       "text": [
        "error: device not found\r\n",
        "error: device not found\r\n"
       ]
      }
     ],
     "prompt_number": 3
    },
    {
     "cell_type": "code",
     "collapsed": false,
     "input": [
      "%%cmd\n",
      "adb devices"
     ],
     "language": "python",
     "metadata": {},
     "outputs": [
      {
       "output_type": "stream",
       "stream": "stdout",
       "text": [
        "Microsoft Windows [Versi\ufffdn 6.3.9600]\r\n",
        "(c) 2013 Microsoft Corporation. Todos los derechos reservados.\r\n",
        "\r\n",
        "C:\\Users\\Eduardo\\Documents\\IPython Notebooks\\GitHub\\lania.ipython\\Dia3\\notebooks>adb devices\n",
        "* daemon not running. starting it now on port 5037 *\r\n",
        "* daemon started successfully *\r\n",
        "List of devices attached \r\n",
        "CB5A1Y8LAW\tunauthorized\r\n",
        "\r\n",
        "\r\n",
        "C:\\Users\\Eduardo\\Documents\\IPython Notebooks\\GitHub\\lania.ipython\\Dia3\\notebooks>"
       ]
      }
     ],
     "prompt_number": 2
    },
    {
     "cell_type": "code",
     "collapsed": false,
     "input": [
      "%%cmd\n",
      "adb forward tcp:9999 tcp:37408\n",
      "set AP_PORT=9999"
     ],
     "language": "python",
     "metadata": {},
     "outputs": [
      {
       "output_type": "stream",
       "stream": "stdout",
       "text": [
        "Microsoft Windows [Versi\ufffdn 6.3.9600]\r\n",
        "(c) 2013 Microsoft Corporation. Todos los derechos reservados.\r\n",
        "\r\n",
        "C:\\Users\\Eduardo\\Documents\\IPython Notebooks\\GitHub\\lania.ipython\\Dia3\\notebooks>adb forward tcp:9999 tcp:37408\n",
        "\r\n",
        "C:\\Users\\Eduardo\\Documents\\IPython Notebooks\\GitHub\\lania.ipython\\Dia3\\notebooks>set AP_PORT=9999\n",
        "\r\n",
        "C:\\Users\\Eduardo\\Documents\\IPython Notebooks\\GitHub\\lania.ipython\\Dia3\\notebooks>"
       ]
      }
     ],
     "prompt_number": 190
    },
    {
     "cell_type": "code",
     "collapsed": false,
     "input": [
      "droide = android.Android()"
     ],
     "language": "python",
     "metadata": {},
     "outputs": [],
     "prompt_number": 6
    },
    {
     "cell_type": "code",
     "collapsed": false,
     "input": [
      "droide.ttsSpeak(\"vamos a comer\")"
     ],
     "language": "python",
     "metadata": {},
     "outputs": [
      {
       "metadata": {},
       "output_type": "pyout",
       "prompt_number": 7,
       "text": [
        "Result(id=0, result=None, error=None)"
       ]
      }
     ],
     "prompt_number": 7
    },
    {
     "cell_type": "code",
     "collapsed": false,
     "input": [
      "mesaje = droide.dialogGetInput('TTS','Esriban mensaje ')"
     ],
     "language": "python",
     "metadata": {},
     "outputs": [],
     "prompt_number": 7
    },
    {
     "cell_type": "code",
     "collapsed": false,
     "input": [
      "mesaje.result"
     ],
     "language": "python",
     "metadata": {},
     "outputs": [
      {
       "metadata": {},
       "output_type": "pyout",
       "prompt_number": 9,
       "text": [
        "u'ola'"
       ]
      }
     ],
     "prompt_number": 9
    },
    {
     "cell_type": "code",
     "collapsed": false,
     "input": [
      "droide.ttsSpeak(mesaje)"
     ],
     "language": "python",
     "metadata": {},
     "outputs": [
      {
       "output_type": "stream",
       "stream": "stdout",
       "text": [
        "com.googlecode.android_scripting.rpc.RpcError: Argument 1 should be of type String.\n"
       ]
      },
      {
       "metadata": {},
       "output_type": "pyout",
       "prompt_number": 11,
       "text": [
        "Result(id=1, result=None, error=u'com.googlecode.android_scripting.rpc.RpcError: Argument 1 should be of type String.')"
       ]
      }
     ],
     "prompt_number": 11
    },
    {
     "cell_type": "code",
     "collapsed": false,
     "input": [
      "if not droide.makeToast('hola').error:\n",
      "    print droide.makeToast('hola')"
     ],
     "language": "python",
     "metadata": {},
     "outputs": []
    },
    {
     "cell_type": "code",
     "collapsed": false,
     "input": [
      "print droide.getClipboard().result"
     ],
     "language": "python",
     "metadata": {},
     "outputs": [
      {
       "output_type": "stream",
       "stream": "stdout",
       "text": [
        "unida\n"
       ]
      }
     ],
     "prompt_number": 13
    },
    {
     "cell_type": "code",
     "collapsed": false,
     "input": [
      "msg='Hola clase'"
     ],
     "language": "python",
     "metadata": {},
     "outputs": [],
     "prompt_number": 14
    },
    {
     "cell_type": "code",
     "collapsed": false,
     "input": [
      "droide.setClipboard(msg)"
     ],
     "language": "python",
     "metadata": {},
     "outputs": [
      {
       "metadata": {},
       "output_type": "pyout",
       "prompt_number": 15,
       "text": [
        "Result(id=4, result=None, error=None)"
       ]
      }
     ],
     "prompt_number": 15
    },
    {
     "cell_type": "code",
     "collapsed": false,
     "input": [
      "droide.startSensingTimed(1,100)"
     ],
     "language": "python",
     "metadata": {},
     "outputs": [
      {
       "metadata": {},
       "output_type": "pyout",
       "prompt_number": 17,
       "text": [
        "Result(id=6, result=None, error=None)"
       ]
      }
     ],
     "prompt_number": 17
    },
    {
     "cell_type": "code",
     "collapsed": false,
     "input": [
      "for i in range(10):\n",
      "    e=droide.eventPoll(1)\n",
      "    if e.result is not None:\n",
      "        print True\n",
      "    else:\n",
      "        timesleep(2)\n",
      "        print False"
     ],
     "language": "python",
     "metadata": {},
     "outputs": [
      {
       "output_type": "stream",
       "stream": "stdout",
       "text": [
        "True\n",
        "True\n",
        "True\n",
        "True\n",
        "True\n",
        "True"
       ]
      },
      {
       "output_type": "stream",
       "stream": "stdout",
       "text": [
        "\n",
        "True\n",
        "True\n",
        "True\n",
        "True\n"
       ]
      }
     ],
     "prompt_number": 19
    },
    {
     "cell_type": "code",
     "collapsed": false,
     "input": [
      "droide.stopSensing()"
     ],
     "language": "python",
     "metadata": {},
     "outputs": [
      {
       "metadata": {},
       "output_type": "pyout",
       "prompt_number": 20,
       "text": [
        "Result(id=18, result=None, error=None)"
       ]
      }
     ],
     "prompt_number": 20
    },
    {
     "cell_type": "code",
     "collapsed": false,
     "input": [
      "Test GPS"
     ],
     "language": "python",
     "metadata": {},
     "outputs": []
    },
    {
     "cell_type": "code",
     "collapsed": false,
     "input": [
      "droide.startLocating()"
     ],
     "language": "python",
     "metadata": {},
     "outputs": [
      {
       "metadata": {},
       "output_type": "pyout",
       "prompt_number": 21,
       "text": [
        "Result(id=19, result=None, error=None)"
       ]
      }
     ],
     "prompt_number": 21
    },
    {
     "cell_type": "code",
     "collapsed": false,
     "input": [
      "for i in range(10):\n",
      "    e=droide.eventPoll(1)\n",
      "    if e.result is not None:\n",
      "        print True\n",
      "    else:\n",
      "        timesleep(2)\n",
      "        print False"
     ],
     "language": "python",
     "metadata": {},
     "outputs": [
      {
       "output_type": "stream",
       "stream": "stdout",
       "text": [
        "True\n",
        "True\n",
        "True\n",
        "True\n",
        "True\n",
        "True"
       ]
      },
      {
       "output_type": "stream",
       "stream": "stdout",
       "text": [
        "\n",
        "True\n",
        "True\n",
        "True\n",
        "True\n"
       ]
      }
     ],
     "prompt_number": 22
    },
    {
     "cell_type": "code",
     "collapsed": false,
     "input": [
      "result=droide.getLastKnownLocation()\n",
      "result"
     ],
     "language": "python",
     "metadata": {},
     "outputs": [
      {
       "metadata": {},
       "output_type": "pyout",
       "prompt_number": 24,
       "text": [
        "Result(id=31, result={u'passive': {u'bearing': 0, u'altitude': 0, u'time': 1416085127546L, u'longitude': -96.9129198, u'provider': u'network', u'latitude': 19.5189813, u'speed': 0, u'accuracy': 2253}, u'network': {u'bearing': 0, u'altitude': 0, u'time': 1416085127546L, u'longitude': -96.9129198, u'provider': u'network', u'latitude': 19.5189813, u'speed': 0, u'accuracy': 2253}, u'gps': {u'bearing': 0, u'altitude': 1316, u'time': 1416085100000L, u'longitude': -96.9159055, u'provider': u'gps', u'latitude': 19.51967594, u'speed': 0, u'accuracy': 44}}, error=None)"
       ]
      }
     ],
     "prompt_number": 24
    },
    {
     "cell_type": "code",
     "collapsed": false,
     "input": [
      "result.result"
     ],
     "language": "python",
     "metadata": {},
     "outputs": [
      {
       "metadata": {},
       "output_type": "pyout",
       "prompt_number": 25,
       "text": [
        "{u'gps': {u'accuracy': 44,\n",
        "  u'altitude': 1316,\n",
        "  u'bearing': 0,\n",
        "  u'latitude': 19.51967594,\n",
        "  u'longitude': -96.9159055,\n",
        "  u'provider': u'gps',\n",
        "  u'speed': 0,\n",
        "  u'time': 1416085100000L},\n",
        " u'network': {u'accuracy': 2253,\n",
        "  u'altitude': 0,\n",
        "  u'bearing': 0,\n",
        "  u'latitude': 19.5189813,\n",
        "  u'longitude': -96.9129198,\n",
        "  u'provider': u'network',\n",
        "  u'speed': 0,\n",
        "  u'time': 1416085127546L},\n",
        " u'passive': {u'accuracy': 2253,\n",
        "  u'altitude': 0,\n",
        "  u'bearing': 0,\n",
        "  u'latitude': 19.5189813,\n",
        "  u'longitude': -96.9129198,\n",
        "  u'provider': u'network',\n",
        "  u'speed': 0,\n",
        "  u'time': 1416085127546L}}"
       ]
      }
     ],
     "prompt_number": 25
    },
    {
     "cell_type": "code",
     "collapsed": false,
     "input": [
      "result.altitude"
     ],
     "language": "python",
     "metadata": {},
     "outputs": [
      {
       "ename": "AttributeError",
       "evalue": "'Result' object has no attribute 'altitude'",
       "output_type": "pyerr",
       "traceback": [
        "\u001b[1;31m---------------------------------------------------------------------------\u001b[0m\n\u001b[1;31mAttributeError\u001b[0m                            Traceback (most recent call last)",
        "\u001b[1;32m<ipython-input-47-c4684258f3ac>\u001b[0m in \u001b[0;36m<module>\u001b[1;34m()\u001b[0m\n\u001b[1;32m----> 1\u001b[1;33m \u001b[0mresult\u001b[0m\u001b[1;33m.\u001b[0m\u001b[0maltitude\u001b[0m\u001b[1;33m\u001b[0m\u001b[0m\n\u001b[0m",
        "\u001b[1;31mAttributeError\u001b[0m: 'Result' object has no attribute 'altitude'"
       ]
      }
     ],
     "prompt_number": 47
    },
    {
     "cell_type": "code",
     "collapsed": false,
     "input": [
      "droide.geocode(0.0,0.0,1)"
     ],
     "language": "python",
     "metadata": {},
     "outputs": [
      {
       "output_type": "stream",
       "stream": "stdout",
       "text": [
        "java.io.IOException: Timed out waiting for response from server\n"
       ]
      },
      {
       "metadata": {},
       "output_type": "pyout",
       "prompt_number": 27,
       "text": [
        "Result(id=32, result=None, error=u'java.io.IOException: Timed out waiting for response from server')"
       ]
      }
     ],
     "prompt_number": 27
    },
    {
     "cell_type": "code",
     "collapsed": false,
     "input": [
      "droide.startTrackingPhoneState()"
     ],
     "language": "python",
     "metadata": {},
     "outputs": [
      {
       "metadata": {},
       "output_type": "pyout",
       "prompt_number": 29,
       "text": [
        "Result(id=34, result=None, error=None)"
       ]
      }
     ],
     "prompt_number": 29
    },
    {
     "cell_type": "code",
     "collapsed": false,
     "input": [
      "for i in range(10):\n",
      "    e=droide.eventPoll(1)\n",
      "    if e.result is not None:\n",
      "        print True\n",
      "    else:\n",
      "        timesleep(2)\n",
      "        print False"
     ],
     "language": "python",
     "metadata": {},
     "outputs": [
      {
       "output_type": "stream",
       "stream": "stdout",
       "text": [
        "True\n",
        "True"
       ]
      },
      {
       "output_type": "stream",
       "stream": "stdout",
       "text": [
        "\n",
        "True\n",
        "True\n",
        "True\n",
        "True\n",
        "True"
       ]
      },
      {
       "output_type": "stream",
       "stream": "stdout",
       "text": [
        "\n",
        "True\n",
        "True\n",
        "True\n"
       ]
      }
     ],
     "prompt_number": 30
    },
    {
     "cell_type": "code",
     "collapsed": false,
     "input": [
      "droide.stopTrackingPhoneState()"
     ],
     "language": "python",
     "metadata": {},
     "outputs": [
      {
       "metadata": {},
       "output_type": "pyout",
       "prompt_number": 31,
       "text": [
        "Result(id=45, result=None, error=None)"
       ]
      }
     ],
     "prompt_number": 31
    },
    {
     "cell_type": "code",
     "collapsed": false,
     "input": [
      "droide.toggleWifiState()"
     ],
     "language": "python",
     "metadata": {},
     "outputs": [
      {
       "metadata": {},
       "output_type": "pyout",
       "prompt_number": 33,
       "text": [
        "Result(id=47, result=False, error=None)"
       ]
      }
     ],
     "prompt_number": 33
    },
    {
     "cell_type": "code",
     "collapsed": false,
     "input": [
      "droide.toggleWifiState()"
     ],
     "language": "python",
     "metadata": {},
     "outputs": [
      {
       "metadata": {},
       "output_type": "pyout",
       "prompt_number": 34,
       "text": [
        "Result(id=48, result=True, error=None)"
       ]
      }
     ],
     "prompt_number": 34
    },
    {
     "cell_type": "code",
     "collapsed": false,
     "input": [
      "if droide.toggleWifiState().result is True:\n",
      "    droide.ttsSpeak(\"wake up\")"
     ],
     "language": "python",
     "metadata": {},
     "outputs": [],
     "prompt_number": 35
    },
    {
     "cell_type": "code",
     "collapsed": false,
     "input": [
      "dt=100"
     ],
     "language": "python",
     "metadata": {},
     "outputs": [],
     "prompt_number": 36
    },
    {
     "cell_type": "code",
     "collapsed": false,
     "input": [
      "final=3000"
     ],
     "language": "python",
     "metadata": {},
     "outputs": [],
     "prompt_number": 37
    },
    {
     "cell_type": "code",
     "collapsed": false,
     "input": [
      "tiempo=0\n",
      "droide.startSensingTimed(2,dt)"
     ],
     "language": "python",
     "metadata": {},
     "outputs": [
      {
       "metadata": {},
       "output_type": "pyout",
       "prompt_number": 41,
       "text": [
        "Result(id=50, result=None, error=None)"
       ]
      }
     ],
     "prompt_number": 41
    },
    {
     "cell_type": "code",
     "collapsed": false,
     "input": [
      "tiempo=0\n",
      "droide.startSensingTimed(2,dt)\n",
      "\n",
      "while tiempo <= final:\n",
      "    print droide.sensorsReadAccelerometer().result\n",
      "    time.sleep(dt/1000.0)\n",
      "    tiempo += dt\n",
      "droide.stopSensing()"
     ],
     "language": "python",
     "metadata": {},
     "outputs": [
      {
       "output_type": "stream",
       "stream": "stdout",
       "text": [
        "[0.4784546, 0.05732727, 9.582352]\n",
        "[0.5359497, 0.05732727, 9.544022]"
       ]
      },
      {
       "output_type": "stream",
       "stream": "stdout",
       "text": [
        "\n",
        "[0.5742798, 0.11482239, 9.563187]"
       ]
      },
      {
       "output_type": "stream",
       "stream": "stdout",
       "text": [
        "\n",
        "[0.49761963, 0.07649231, 9.4865265]"
       ]
      },
      {
       "output_type": "stream",
       "stream": "stdout",
       "text": [
        "\n",
        "[0.51678467, 0.03816223, 9.524857]"
       ]
      },
      {
       "output_type": "stream",
       "stream": "stdout",
       "text": [
        "\n",
        "[0.49761963, 0.07649231, 9.524857]"
       ]
      },
      {
       "output_type": "stream",
       "stream": "stdout",
       "text": [
        "\n",
        "[0.49761963, 0.07649231, 9.563187]"
       ]
      },
      {
       "output_type": "stream",
       "stream": "stdout",
       "text": [
        "\n",
        "[0.49761963, 0.09565735, 9.544022]"
       ]
      },
      {
       "output_type": "stream",
       "stream": "stdout",
       "text": [
        "\n",
        "[0.51678467, 0.03816223, 9.505692]"
       ]
      },
      {
       "output_type": "stream",
       "stream": "stdout",
       "text": [
        "\n",
        "[0.5359497, 0.05732727, 9.505692]"
       ]
      },
      {
       "output_type": "stream",
       "stream": "stdout",
       "text": [
        "\n",
        "[0.51678467, 0.07649231, 9.505692]"
       ]
      },
      {
       "output_type": "stream",
       "stream": "stdout",
       "text": [
        "\n",
        "[0.4401245, 0.018997192, 9.524857]"
       ]
      },
      {
       "output_type": "stream",
       "stream": "stdout",
       "text": [
        "\n",
        "[0.5742798, -0.019332886, 9.448196]"
       ]
      },
      {
       "output_type": "stream",
       "stream": "stdout",
       "text": [
        "\n",
        "[0.5359497, 0.018997192, 9.467361]"
       ]
      },
      {
       "output_type": "stream",
       "stream": "stdout",
       "text": [
        "\n",
        "[0.51678467, 0.07649231, 9.582352]"
       ]
      },
      {
       "output_type": "stream",
       "stream": "stdout",
       "text": [
        "\n",
        "[0.5742798, 0.09565735, 9.4865265]"
       ]
      },
      {
       "output_type": "stream",
       "stream": "stdout",
       "text": [
        "\n",
        "[0.5359497, 0.07649231, 9.544022]"
       ]
      },
      {
       "output_type": "stream",
       "stream": "stdout",
       "text": [
        "\n",
        "[0.5359497, 0.07649231, 9.505692]"
       ]
      },
      {
       "output_type": "stream",
       "stream": "stdout",
       "text": [
        "\n",
        "[0.5742798, 0.07649231, 9.524857]"
       ]
      },
      {
       "output_type": "stream",
       "stream": "stdout",
       "text": [
        "\n",
        "[0.51678467, 0.03816223, 9.505692]"
       ]
      },
      {
       "output_type": "stream",
       "stream": "stdout",
       "text": [
        "\n",
        "[0.5742798, 0.03816223, 9.4865265]"
       ]
      },
      {
       "output_type": "stream",
       "stream": "stdout",
       "text": [
        "\n",
        "[0.55511475, 0.09565735, 9.544022]"
       ]
      },
      {
       "output_type": "stream",
       "stream": "stdout",
       "text": [
        "\n",
        "[0.51678467, 0.05732727, 9.544022]"
       ]
      },
      {
       "output_type": "stream",
       "stream": "stdout",
       "text": [
        "\n",
        "[0.55511475, 0.05732727, 9.524857]"
       ]
      },
      {
       "output_type": "stream",
       "stream": "stdout",
       "text": [
        "\n",
        "[0.55511475, 0.07649231, 9.505692]"
       ]
      },
      {
       "output_type": "stream",
       "stream": "stdout",
       "text": [
        "\n",
        "[0.49761963, 0.05732727, 9.505692]"
       ]
      },
      {
       "output_type": "stream",
       "stream": "stdout",
       "text": [
        "\n",
        "[0.49761963, 0.09565735, 9.524857]"
       ]
      },
      {
       "output_type": "stream",
       "stream": "stdout",
       "text": [
        "\n",
        "[0.49761963, 0.05732727, 9.524857]"
       ]
      },
      {
       "output_type": "stream",
       "stream": "stdout",
       "text": [
        "\n",
        "[0.5359497, 0.11482239, 9.505692]"
       ]
      },
      {
       "output_type": "stream",
       "stream": "stdout",
       "text": [
        "\n",
        "[0.51678467, 0.05732727, 9.4865265]"
       ]
      },
      {
       "output_type": "stream",
       "stream": "stdout",
       "text": [
        "\n",
        "[0.5359497, 0.07649231, 9.563187]"
       ]
      },
      {
       "output_type": "stream",
       "stream": "stdout",
       "text": [
        "\n"
       ]
      },
      {
       "metadata": {},
       "output_type": "pyout",
       "prompt_number": 45,
       "text": [
        "Result(id=147, result=None, error=None)"
       ]
      }
     ],
     "prompt_number": 45
    },
    {
     "cell_type": "code",
     "collapsed": false,
     "input": [
      " import android, time\n",
      " droid = android.Android()\n",
      " droid.startLocating()\n",
      " time.sleep(15)\n",
      " loc = droid.readLocation().result\n",
      " if loc == {}:\n",
      "   loc = getLastKnownLocation().result\n",
      " if loc != {}:\n",
      "   try:\n",
      "     n = loc['gps']\n",
      "   except KeyError:\n",
      "     n = loc['network'] \n",
      "   la = n['latitude'] \n",
      "   lo = n['longitude']\n",
      "   address = droid.geocode(la, lo).result\n",
      " droid.stopLocating()"
     ],
     "language": "python",
     "metadata": {},
     "outputs": [
      {
       "metadata": {},
       "output_type": "pyout",
       "prompt_number": 58,
       "text": [
        "Result(id=3, result=None, error=None)"
       ]
      }
     ],
     "prompt_number": 58
    },
    {
     "cell_type": "code",
     "collapsed": false,
     "input": [
      "\n",
      "address\n"
     ],
     "language": "python",
     "metadata": {},
     "outputs": [
      {
       "metadata": {},
       "output_type": "pyout",
       "prompt_number": 192,
       "text": [
        "[{u'admin_area': u'Estado de M\\xe9xico',\n",
        "  u'country_code': u'MX',\n",
        "  u'country_name': u'M\\xe9xico',\n",
        "  u'feature_name': u'Hda. de Canutillo',\n",
        "  u'locality': u'San Nicol\\xe1s Tolentino',\n",
        "  u'thoroughfare': u'Hda. de Canutillo'}]"
       ]
      }
     ],
     "prompt_number": 192
    },
    {
     "cell_type": "code",
     "collapsed": false,
     "input": [
      "message"
     ],
     "language": "python",
     "metadata": {},
     "outputs": []
    },
    {
     "cell_type": "code",
     "collapsed": false,
     "input": [
      "import android,time\n",
      "droide = android.Android()\n",
      "droide.ttsSpeak(\"Hola, Proporciona tu nombre\")\n",
      "name = droide.dialogGetInput('Hola','Nombre')\n",
      "droide.ttsSpeak(\"Hola \"+name.result)\n",
      "droide.ttsSpeak(\"Proporciona tu indicacion en 5 segundos\")\n",
      "time.sleep(5)\n",
      "comando=droide.recognizeSpeech(\"indica que deseas tomar la foto\")\n",
      "droide.makeToast(\"Tu indicacion es %s\" %comando.result)\n",
      "if comando.result =='tomar foto':\n",
      "    droide.ttsSpeak(\"Vas a tomar foto\")  \n",
      "    droide.ttsSpeak(\"Enfoca el objeto al que deseas tomar la foto\")\n",
      "    droide.cameraInteractiveCapturePicture('/sdcard/foo.jpg')\n",
      "    droide.startLocating()\n",
      "    time.sleep(10)\n",
      "    loc = droide.readLocation().result\n",
      "    if loc == {}:\n",
      "        loc = getLastKnownLocation().result\n",
      "    if loc != {}:\n",
      "        try:\n",
      "            n = loc['gps']\n",
      "        except KeyError:\n",
      "         n = loc['network'] \n",
      "        la = n['latitude'] \n",
      "        lo = n['longitude']\n",
      "        address = droide.geocode(la, lo).result\n",
      "        droide.stopLocating()\n",
      "        droide.ttsSpeak(\"La foto fue tomada en \"+address[0]['admin_area']+address[0]['locality']+address[0]['thoroughfare'])\n",
      "        droide.ttsSpeak(\"Hasta Luego\")"
     ],
     "language": "python",
     "metadata": {},
     "outputs": [],
     "prompt_number": 197
    },
    {
     "cell_type": "code",
     "collapsed": false,
     "input": [
      "comando=droide.recognizeSpeech(\"indica que deseas tomar la foto\")\n"
     ],
     "language": "python",
     "metadata": {},
     "outputs": [],
     "prompt_number": 45
    },
    {
     "cell_type": "code",
     "collapsed": false,
     "input": [
      "droide.makeToast(\"you said %s\" %comando.result)\n",
      "droide.ttsSpeak(comando.result)\n",
      "if comando.result =='tomar foto':\n",
      "    droide.ttsSpeak(\"Vas a tomar foto\")"
     ],
     "language": "python",
     "metadata": {},
     "outputs": [],
     "prompt_number": 47
    }
   ],
   "metadata": {}
  }
 ]
}