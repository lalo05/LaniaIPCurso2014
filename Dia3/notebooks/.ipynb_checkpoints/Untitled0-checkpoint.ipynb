{
 "metadata": {
  "name": "",
  "signature": "sha256:cd3f9f1669f5c127a06f939cdbc43b6055d54a413329d36be9f85bb5eab1dfd3"
 },
 "nbformat": 3,
 "nbformat_minor": 0,
 "worksheets": [
  {
   "cells": [
    {
     "cell_type": "code",
     "collapsed": false,
     "input": [
      "import urllib\n",
      "import json\n",
      "\n",
      "destino = '../files/imagen.jpg'\n",
      "figshare_id='1233501'\n",
      "figshared_url='http://api.figshare.com/v1/articles/%s' % figshare_id"
     ],
     "language": "python",
     "metadata": {},
     "outputs": [],
     "prompt_number": 3
    },
    {
     "cell_type": "code",
     "collapsed": false,
     "input": [
      "respuesta_json=urllib.urlopen(figshared_url)"
     ],
     "language": "python",
     "metadata": {},
     "outputs": [],
     "prompt_number": 4
    },
    {
     "cell_type": "code",
     "collapsed": false,
     "input": [
      "informacion_articulo=json.load(respuesta_json)"
     ],
     "language": "python",
     "metadata": {},
     "outputs": [],
     "prompt_number": 5
    },
    {
     "cell_type": "code",
     "collapsed": false,
     "input": [
      "informacion_articulo"
     ],
     "language": "python",
     "metadata": {},
     "outputs": [
      {
       "metadata": {},
       "output_type": "pyout",
       "prompt_number": 6,
       "text": [
        "{u'count': 1,\n",
        " u'items': [{u'article_id': 1233501,\n",
        "   u'authors': [{u'first_name': u'Lalo',\n",
        "     u'full_name': u'Lalo Barea',\n",
        "     u'id': 656748,\n",
        "     u'last_name': u'Barea'}],\n",
        "   u'categories': [{u'id': 135, u'name': u'Computational  Biology'}],\n",
        "   u'defined_type': u'figure',\n",
        "   u'description': u'<p>Fotografia del Helecho con gota de agua en la camara, en android\\xa0</p>',\n",
        "   u'description_nohtml': u'Fotografia del Helecho con gota de agua en la camara, en android\\xa0',\n",
        "   u'doi': u'http://dx.doi.org/10.6084/m9.figshare.1233501',\n",
        "   u'downloads': 0,\n",
        "   u'figshare_url': u'http://figshare.com/articles/Helecho_con_magnificacion/1233501',\n",
        "   u'files': [{u'download_url': u'http://files.figshare.com/1784924/DSC_0499.JPG',\n",
        "     u'id': 1784924,\n",
        "     u'mime_type': u'image/jpeg',\n",
        "     u'name': u'DSC_0499.JPG',\n",
        "     u'size': u'320 KB',\n",
        "     u'thumb': u'http://previews.figshare.com/1784924/250_1784924.jpg'}],\n",
        "   u'links': [],\n",
        "   u'master_publisher_id': 0,\n",
        "   u'owner': {u'full_name': u'Lalo Barea', u'id': 656748},\n",
        "   u'published_date': u'21:20, Nov 08, 2014',\n",
        "   u'publisher_citation': u'',\n",
        "   u'publisher_doi': u'',\n",
        "   u'shares': 0,\n",
        "   u'status': u'Public',\n",
        "   u'tags': [{u'id': 65381, u'name': u'android'}],\n",
        "   u'title': u'Helecho con magnificacion',\n",
        "   u'total_size': u'312.75 KB',\n",
        "   u'version': 1,\n",
        "   u'views': 2}]}"
       ]
      }
     ],
     "prompt_number": 6
    },
    {
     "cell_type": "code",
     "collapsed": false,
     "input": [
      "img_url_descarga = informacion_articulo['items'][0]['files'][0]['download_url']"
     ],
     "language": "python",
     "metadata": {},
     "outputs": [],
     "prompt_number": 7
    },
    {
     "cell_type": "code",
     "collapsed": false,
     "input": [
      "img_url_descarga"
     ],
     "language": "python",
     "metadata": {},
     "outputs": [
      {
       "metadata": {},
       "output_type": "pyout",
       "prompt_number": 8,
       "text": [
        "u'http://files.figshare.com/1784924/DSC_0499.JPG'"
       ]
      }
     ],
     "prompt_number": 8
    },
    {
     "cell_type": "code",
     "collapsed": false,
     "input": [
      "urllib.urlretrieve(img_url_descarga, destino)"
     ],
     "language": "python",
     "metadata": {},
     "outputs": [
      {
       "metadata": {},
       "output_type": "pyout",
       "prompt_number": 9,
       "text": [
        "('../files/imagen.jpg', <httplib.HTTPMessage instance at 0x0000000003BA16C8>)"
       ]
      }
     ],
     "prompt_number": 9
    },
    {
     "cell_type": "code",
     "collapsed": false,
     "input": [
      "!dir ..\\files\\imagen.jpg"
     ],
     "language": "python",
     "metadata": {},
     "outputs": [
      {
       "output_type": "stream",
       "stream": "stdout",
       "text": [
        " El volumen de la unidad C es OS\n",
        " El n\u00a3mero de serie del volumen es: C200-9921\n",
        "\n",
        " Directorio de C:\\Users\\Eduardo\\Documents\\IPython Notebooks\\GitHub\\lania.ipython\\Dia3\\files\n",
        "\n",
        "08/11/2014  03:38 p. m.           327,946 imagen.jpg\n",
        "               1 archivos        327,946 bytes\n",
        "               0 dirs  858,415,935,488 bytes libres\n"
       ]
      }
     ],
     "prompt_number": 12
    },
    {
     "cell_type": "code",
     "collapsed": false,
     "input": [
      "import urllib\n",
      "import json\n",
      "\n",
      "destino = '../files/imagen2.jpg'\n",
      "figshare_id='1233473'\n",
      "figshared_url='http://api.figshare.com/v1/articles/%s' % figshare_id\n",
      "respuesta_json=urllib.urlopen(figshared_url)\n",
      "informacion_articulo=json.load(respuesta_json)\n",
      "informacion_articulo\n",
      "img_url_descarga = informacion_articulo['items'][0]['files'][0]['download_url']\n",
      "img_url_descarga\n",
      "urllib.urlretrieve(img_url_descarga, destino)\n",
      "!dir ..\\files\\imagen2.jpg\n"
     ],
     "language": "python",
     "metadata": {},
     "outputs": [
      {
       "output_type": "stream",
       "stream": "stdout",
       "text": [
        " El volumen de la unidad C es OS\n",
        " El n\u00a3mero de serie del volumen es: C200-9921\n",
        "\n",
        " Directorio de C:\\Users\\Eduardo\\Documents\\IPython Notebooks\\GitHub\\lania.ipython\\Dia3\\files\n",
        "\n",
        "08/11/2014  04:13 p. m.           245,111 imagen2.jpg\n",
        "               1 archivos        245,111 bytes\n",
        "               0 dirs  858,412,445,696 bytes libres\n"
       ]
      }
     ],
     "prompt_number": 16
    },
    {
     "cell_type": "code",
     "collapsed": false,
     "input": [
      "import urllib\n",
      "import json\n",
      "\n",
      "destino = '../files/imagen3.jpg'\n",
      "figshare_id='1233508'\n",
      "figshared_url='http://api.figshare.com/v1/articles/%s' % figshare_id\n",
      "respuesta_json=urllib.urlopen(figshared_url)\n",
      "informacion_articulo=json.load(respuesta_json)\n",
      "informacion_articulo\n",
      "img_url_descarga = informacion_articulo['items'][0]['files'][0]['download_url']\n",
      "img_url_descarga\n",
      "urllib.urlretrieve(img_url_descarga, destino)\n",
      "!dir ..\\files\\imagen3.jpg\n"
     ],
     "language": "python",
     "metadata": {},
     "outputs": [
      {
       "output_type": "stream",
       "stream": "stdout",
       "text": [
        " El volumen de la unidad C es OS\n",
        " El n\u00a3mero de serie del volumen es: C200-9921\n",
        "\n",
        " Directorio de C:\\Users\\Eduardo\\Documents\\IPython Notebooks\\GitHub\\lania.ipython\\Dia3\\files\n",
        "\n",
        "08/11/2014  04:13 p. m.           245,111 imagen2.jpg\n",
        "               1 archivos        245,111 bytes\n",
        "               0 dirs  858,410,262,528 bytes libres\n"
       ]
      }
     ],
     "prompt_number": 17
    },
    {
     "cell_type": "code",
     "collapsed": false,
     "input": [
      "import urllib\n",
      "import json\n",
      "\n",
      "destino = '../files/imagen4.jpg'\n",
      "figshare_id='1233508'\n",
      "figshared_url='http://api.figshare.com/v1/articles/%s' % figshare_id\n",
      "respuesta_json=urllib.urlopen(figshared_url)\n",
      "informacion_articulo=json.load(respuesta_json)\n",
      "informacion_articulo\n",
      "img_url_descarga = informacion_articulo['items'][0]['files'][0]['download_url']\n",
      "img_url_descarga\n",
      "urllib.urlretrieve(img_url_descarga, destino)\n",
      "!dir ..\\files\\imagen4.jpg\n"
     ],
     "language": "python",
     "metadata": {},
     "outputs": []
    }
   ],
   "metadata": {}
  }
 ]
}